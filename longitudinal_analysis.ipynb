{
 "cells": [
  {
   "cell_type": "markdown",
   "metadata": {},
   "source": [
    "# Longitudinal Analysis"
   ]
  },
  {
   "cell_type": "markdown",
   "metadata": {},
   "source": [
    "## Imports and initialize WebScrapper object"
   ]
  },
  {
   "cell_type": "code",
   "execution_count": 36,
   "metadata": {},
   "outputs": [],
   "source": [
    "import nltk\n",
    "\n",
    "import numpy as np\n",
    "import matplotlib.pyplot as plt\n",
    "import pandas as pd\n",
    "import seaborn as sns\n",
    "\n",
    "from nltk.stem import WordNetLemmatizer\n",
    "from nltk.stem import PorterStemmer\n",
    "from nltk.corpus import wordnet\n",
    "from nltk import pos_tag\n",
    "\n",
    "from collections import defaultdict\n",
    "\n",
    "from scipy.spatial.distance import cosine\n",
    "\n",
    "from WebScrapping import WebScrapper\n",
    "\n",
    "from sklearn.cluster import KMeans\n",
    "from sklearn.pipeline import make_pipeline\n",
    "from sklearn.preprocessing import Normalizer\n",
    "from sklearn.decomposition import TruncatedSVD\n",
    "from sklearn.feature_extraction.text import TfidfTransformer\n",
    "from sklearn.feature_extraction.text import CountVectorizer\n",
    "from sklearn.decomposition import NMF\n",
    "\n",
    "from gensim.parsing.preprocessing import remove_stopwords, strip_punctuation, strip_non_alphanum, strip_numeric, strip_short\n",
    "from gensim.utils import tokenize\n",
    "\n",
    "# Define plot style\n",
    "sns.set_style(\"darkgrid\", {\"axes.facecolor\": \".9\"})"
   ]
  },
  {
   "cell_type": "markdown",
   "metadata": {},
   "source": [
    "### Web Scrapping"
   ]
  },
  {
   "cell_type": "markdown",
   "metadata": {},
   "source": [
    "#### Create Web Scrapper Object"
   ]
  },
  {
   "cell_type": "code",
   "execution_count": 2,
   "metadata": {},
   "outputs": [],
   "source": [
    "search_words = [\"machine\", \"learning\", \"enthalpy\"]\n",
    "\n",
    "wspr = WebScrapper(search_words)"
   ]
  },
  {
   "cell_type": "markdown",
   "metadata": {},
   "source": [
    "#### Web Scrapping on Springer and PubMed"
   ]
  },
  {
   "cell_type": "code",
   "execution_count": null,
   "metadata": {},
   "outputs": [],
   "source": [
    "num_articles = 50\n",
    "\n",
    "wspr.fetchArticles(max_articles=num_articles)\n",
    "\n",
    "for article in wspr.articles:\n",
    "    print(article)"
   ]
  },
  {
   "cell_type": "markdown",
   "metadata": {},
   "source": [
    "#### Fetch articles components from SemanticScholar"
   ]
  },
  {
   "cell_type": "code",
   "execution_count": 5,
   "metadata": {},
   "outputs": [
    {
     "name": "stdout",
     "output_type": "stream",
     "text": [
      "max_articles = 10\n",
      "10 articles added\n"
     ]
    }
   ],
   "source": [
    "num_articles = 10\n",
    "\n",
    "wspr.fetchSemanticScholar(max_articles=num_articles) # Collects 20 articles components per minute"
   ]
  },
  {
   "cell_type": "markdown",
   "metadata": {},
   "source": [
    "#### Save fetched article components to a Microsoft Excel file"
   ]
  },
  {
   "cell_type": "code",
   "execution_count": null,
   "metadata": {},
   "outputs": [],
   "source": [
    "wspr.save_to_excel(\"fetched_articles_all_info.xlsx\")"
   ]
  },
  {
   "cell_type": "markdown",
   "metadata": {},
   "source": [
    "### Preprocess abstracts"
   ]
  },
  {
   "cell_type": "markdown",
   "metadata": {},
   "source": [
    "#### Read Data"
   ]
  },
  {
   "cell_type": "code",
   "execution_count": 6,
   "metadata": {},
   "outputs": [
    {
     "name": "stdout",
     "output_type": "stream",
     "text": [
      "981\n"
     ]
    }
   ],
   "source": [
    "# In case the kernel was restarted read the saved Microsoft Excel file with the articles components\n",
    "search_words = [\"machine\", \"learning\", \"enthalpy\"]\n",
    "\n",
    "wspr = WebScrapper(search_words)\n",
    "\n",
    "num_articles = wspr.read_from_Excel(\"fetched_articles_all_info.xlsx\")\n",
    "\n",
    "print(num_articles)"
   ]
  },
  {
   "cell_type": "markdown",
   "metadata": {},
   "source": [
    "#### Basic preprocessing techniques applied"
   ]
  },
  {
   "cell_type": "markdown",
   "metadata": {},
   "source": [
    "##### Auxiliary functions"
   ]
  },
  {
   "cell_type": "code",
   "execution_count": 8,
   "metadata": {},
   "outputs": [
    {
     "name": "stderr",
     "output_type": "stream",
     "text": [
      "[nltk_data] Downloading package wordnet to\n",
      "[nltk_data]     C:\\Users\\Rodd\\AppData\\Roaming\\nltk_data...\n",
      "[nltk_data]   Package wordnet is already up-to-date!\n",
      "[nltk_data] Downloading package punkt to\n",
      "[nltk_data]     C:\\Users\\Rodd\\AppData\\Roaming\\nltk_data...\n",
      "[nltk_data]   Package punkt is already up-to-date!\n",
      "[nltk_data] Downloading package averaged_perceptron_tagger to\n",
      "[nltk_data]     C:\\Users\\Rodd\\AppData\\Roaming\\nltk_data...\n",
      "[nltk_data]   Package averaged_perceptron_tagger is already up-to-\n",
      "[nltk_data]       date!\n"
     ]
    }
   ],
   "source": [
    "nltk.download(\"wordnet\")\n",
    "nltk.download(\"punkt\")\n",
    "nltk.download('averaged_perceptron_tagger')\n",
    "\n",
    "\n",
    "def get_all_words(tokenized_abstracts):\n",
    "    \"\"\"\n",
    "    Return the total number of words across all abstracts\n",
    "    \"\"\"\n",
    "    words = []\n",
    "    for abstract in tokenized_abstracts:\n",
    "        for word in abstract:\n",
    "            if word not in words:\n",
    "                words.append(word)\n",
    "\n",
    "    return sorted(words)\n",
    "\n",
    "\n",
    "def removeNonImportantWords(abstracts):\n",
    "    \"\"\"\n",
    "    Remove words that only appear one or two times in all abstracts\n",
    "    \"\"\"\n",
    "    words = defaultdict(int)\n",
    "\n",
    "    for abstract in abstracts:\n",
    "        for word in abstract:\n",
    "            words[word] += 1\n",
    "\n",
    "    # self.n_words = len(list(words.keys()))\n",
    "\n",
    "    important_words = [[word for word in abstract if words[word] > 2] for abstract in abstracts]\n",
    "    return important_words\n",
    "\n",
    "\n",
    "def get_wordnet_pos(tag):\n",
    "    \"\"\"\n",
    "    Return the categorized word based on the part-of-Speech tag\n",
    "    \"\"\"\n",
    "    if tag.startswith(\"J\"):\n",
    "        return wordnet.ADJ\n",
    "    elif tag.startswith(\"V\"):\n",
    "        return wordnet.VERB\n",
    "    elif tag.startswith(\"N\"):\n",
    "        return wordnet.NOUN\n",
    "    elif tag.startswith(\"R\"):\n",
    "        return wordnet.ADV\n",
    "    else:\n",
    "        return wordnet.NOUN\n",
    "\n",
    "\n",
    "def lemmatize_text(tokenized_text):\n",
    "    \"\"\"\n",
    "    Return the tokenized corpus lemmatized\n",
    "    \"\"\"\n",
    "    wnl = WordNetLemmatizer()\n",
    "\n",
    "    # Get Pos Tagged\n",
    "    ptag = pos_tag(tokenized_text)\n",
    "\n",
    "    return [wnl.lemmatize(pt[0], get_wordnet_pos(pt[1])) for pt in ptag]\n",
    "\n",
    "\n",
    "def stem_text(tokenized_text):\n",
    "    \"\"\"\n",
    "    Return the tokenized corpus stemmatized\n",
    "    \"\"\"\n",
    "    ps = PorterStemmer()\n",
    "    return [ps.stem(token) for token in tokenized_text]\n",
    "\n",
    "\n",
    "def normalize_text(tokenized_text, type=\"Lemm\"):\n",
    "    if type==\"Lemm\":\n",
    "        return lemmatize_text(tokenized_text)\n",
    "    elif type==\"Stemm\":\n",
    "        return stem_text(tokenized_text)\n",
    "    else:\n",
    "        return tokenized_text"
   ]
  },
  {
   "cell_type": "markdown",
   "metadata": {},
   "source": [
    "#### PreProcesing"
   ]
  },
  {
   "cell_type": "code",
   "execution_count": 9,
   "metadata": {},
   "outputs": [],
   "source": [
    "# List to save the processed abstracts\n",
    "processed_abstracts = []\n",
    "\n",
    "for article in wspr.articles:\n",
    "\n",
    "    # Lower case the words of the abstract\n",
    "    abstract = article.abstract.lower()\n",
    "\n",
    "    # Remove the punctuation of the abstract, remove the numeric values, remove the alphanumeric\n",
    "    # values, remove the short words (with one or two letters) and remove stop words\n",
    "    abstract = remove_stopwords(strip_short(strip_non_alphanum(strip_numeric(strip_punctuation(abstract))), minsize=3))\n",
    "    \n",
    "    # Tokenize abstract\n",
    "    tokenized_abstract = list(tokenize(abstract))\n",
    "\n",
    "    # Add the processed abstract to the list\n",
    "    processed_abstracts.append(tokenized_abstract)\n",
    "\n",
    "# Filter abstract to remove uninportant words\n",
    "filtered_abstracts = removeNonImportantWords(processed_abstracts)\n",
    "\n",
    "# Normalize the abstracts a.k.a. Lemmatize or Stemmatize\n",
    "normalized_abstracts = [normalize_text(tokenized_abstract, \"Lemm\") for tokenized_abstract in filtered_abstracts]\n",
    "\n",
    "# Get list with all words\n",
    "all_words = get_all_words(normalized_abstracts)"
   ]
  },
  {
   "cell_type": "markdown",
   "metadata": {},
   "source": [
    "#### Calculate tf-idf"
   ]
  },
  {
   "cell_type": "code",
   "execution_count": 72,
   "metadata": {},
   "outputs": [
    {
     "name": "stdout",
     "output_type": "stream",
     "text": [
      "(982, 3733)\n"
     ]
    }
   ],
   "source": [
    "# Calculate word countings\n",
    "joint_abstracts = []\n",
    "for abstract in normalized_abstracts:\n",
    "    joint_abstracts.append(\" \".join(abstract))\n",
    "\n",
    "CV = CountVectorizer()\n",
    "countings = CV.fit_transform(joint_abstracts)\n",
    "\n",
    "# Calculate tfidf matrix\n",
    "tfidf_transformer = TfidfTransformer(smooth_idf=True, use_idf=True)\n",
    "tfidf_matrix = tfidf_transformer.fit_transform(countings)"
   ]
  },
  {
   "cell_type": "markdown",
   "metadata": {},
   "source": [
    "### Reduce dimensionality of tf-idf matrix using Truncated SVD"
   ]
  },
  {
   "cell_type": "markdown",
   "metadata": {},
   "source": [
    "#### Find the optimal number of components using the explained variance"
   ]
  },
  {
   "cell_type": "code",
   "execution_count": 12,
   "metadata": {},
   "outputs": [
    {
     "data": {
      "image/png": "[encoded data removed]",
      "text/plain": [
       "<Figure size 432x288 with 1 Axes>"
      ]
     },
     "metadata": {},
     "output_type": "display_data"
    }
   ],
   "source": [
    "n_comp = [4,10,15,20,50,100,150,200,500,700,800,900,1000,1250] \n",
    "explained_var_ratio = [] \n",
    "for x in n_comp:\n",
    "    svd = TruncatedSVD(n_components=x)\n",
    "    svd.fit(tfidf_matrix)\n",
    "    explained_var_ratio.append(svd.explained_variance_ratio_.sum())\n",
    "    \n",
    "plt.plot(n_comp, explained_var_ratio)\n",
    "plt.xlabel('Number of components')\n",
    "plt.ylabel(\"Explained Variance\")\n",
    "plt.show()"
   ]
  },
  {
   "cell_type": "markdown",
   "metadata": {},
   "source": [
    "#### Calculate an aproximation of the tf-idf matrix with Truncated SVD with n_components=800"
   ]
  },
  {
   "cell_type": "code",
   "execution_count": 13,
   "metadata": {},
   "outputs": [],
   "source": [
    "# Applying SVD method to reduce dimensionality and then normalize\n",
    "svd = TruncatedSVD(n_components=800)\n",
    "\n",
    "# L2 Norm normalization\n",
    "normalizer = Normalizer(copy=False)\n",
    "lsa = make_pipeline(svd, normalizer)\n",
    "\n",
    "M_hat = lsa.fit_transform(tfidf_matrix)"
   ]
  },
  {
   "cell_type": "markdown",
   "metadata": {},
   "source": [
    "### Clustering with K-means"
   ]
  },
  {
   "cell_type": "markdown",
   "metadata": {},
   "source": [
    "#### Finding the optimal number of clusters using the Elbow method"
   ]
  },
  {
   "cell_type": "code",
   "execution_count": 14,
   "metadata": {},
   "outputs": [
    {
     "name": "stderr",
     "output_type": "stream",
     "text": [
      "D:\\Anaconda\\lib\\site-packages\\sklearn\\cluster\\_kmeans.py:881: UserWarning: KMeans is known to have a memory leak on Windows with MKL, when there are less chunks than available threads. You can avoid it by setting the environment variable OMP_NUM_THREADS=4.\n",
      "  warnings.warn(\n"
     ]
    },
    {
     "data": {
      "image/png": "[encoded data removed]",
      "text/plain": [
       "<Figure size 432x288 with 1 Axes>"
      ]
     },
     "metadata": {},
     "output_type": "display_data"
    }
   ],
   "source": [
    "# Elbow Method with inertia\n",
    "inertia_values = []\n",
    "for i in range(1, 16):\n",
    "    kmeans = KMeans(init=\"k-means++\", n_clusters=i)\n",
    "    kmeans.fit(M_hat)\n",
    "\n",
    "    inertia_values.append(kmeans.inertia_)\n",
    "\n",
    "num_clusters = np.linspace(1,16,15).T\n",
    "\n",
    "plt.plot(num_clusters, inertia_values)\n",
    "plt.xlabel(\"Nº of clusters\")\n",
    "plt.ylabel(\"Inertia\")\n",
    "plt.show()"
   ]
  },
  {
   "cell_type": "markdown",
   "metadata": {},
   "source": [
    "#### Apply the K-means algorithm to n_clusters=8"
   ]
  },
  {
   "cell_type": "code",
   "execution_count": 15,
   "metadata": {},
   "outputs": [
    {
     "name": "stderr",
     "output_type": "stream",
     "text": [
      "D:\\Anaconda\\lib\\site-packages\\sklearn\\cluster\\_kmeans.py:881: UserWarning: KMeans is known to have a memory leak on Windows with MKL, when there are less chunks than available threads. You can avoid it by setting the environment variable OMP_NUM_THREADS=4.\n",
      "  warnings.warn(\n"
     ]
    },
    {
     "name": "stdout",
     "output_type": "stream",
     "text": [
      "Cluster 0: feature, classifier, learn, selection, program\n",
      "\n",
      "Cluster 1: matrix, approximation, covariance, ridge, expect\n",
      "\n",
      "Cluster 2: learn, data, image, machine, task\n",
      "\n",
      "Cluster 3: kernel, elm, learn, function, weight\n",
      "\n",
      "Cluster 4: enthalpy, material, structure, model, thermodynamic\n",
      "\n",
      "Cluster 5: time, series, classifier, feature, data\n",
      "\n",
      "Cluster 6: similarity, kannada, language, refinement, tagger\n",
      "\n",
      "Cluster 7: translation, rank, preference, sentence, feature\n",
      "\n"
     ]
    }
   ],
   "source": [
    "# Perform k-means algorithm for number of clusters = 8\n",
    "n_clusters = 8\n",
    "\n",
    "final_kmeans = KMeans(init=\"k-means++\", n_clusters=n_clusters, max_iter=600, tol=1e-6, algorithm=\"full\")\n",
    "final_kmeans.fit(M_hat)\n",
    "\n",
    "# Convert back the centroids\n",
    "original_space_centroids = svd.inverse_transform(kmeans.cluster_centers_)\n",
    "order_centroids = original_space_centroids.argsort()[:, ::-1]\n",
    "\n",
    "terms = CV.get_feature_names()\n",
    "\n",
    "for i in range(0,n_clusters):\n",
    "    print(\"Cluster {}: {}, {}, {}, {}, {}\\n\".format(i, terms[order_centroids[i, 0]], terms[order_centroids[i, 1]], terms[order_centroids[i, 2]], terms[order_centroids[i, 3]], terms[order_centroids[i, 4]]))\n",
    "\n",
    "article_labels = final_kmeans.labels_"
   ]
  },
  {
   "cell_type": "markdown",
   "metadata": {},
   "source": [
    "### Reduce dimensionality of tf-idf matrix using Non-negative Matrix Factorization"
   ]
  },
  {
   "cell_type": "markdown",
   "metadata": {},
   "source": [
    "#### Auxiliary function"
   ]
  },
  {
   "cell_type": "code",
   "execution_count": 16,
   "metadata": {},
   "outputs": [],
   "source": [
    "def get_n_maximum(nums, n):\n",
    "    \"\"\"\n",
    "    Return the n maximum values of a list\n",
    "    \"\"\"\n",
    "    indexes = []\n",
    "    values = []\n",
    "\n",
    "    for i in range(n):\n",
    "        max = nums[0]\n",
    "        index = 0\n",
    "        for k in range(1, nums.shape[0]):\n",
    "            num = nums[k]\n",
    "            if max < num and k not in indexes:\n",
    "                max = num\n",
    "                index = k\n",
    "        \n",
    "        values.append(max)\n",
    "        indexes.append(index)\n",
    "\n",
    "    return (indexes, values)"
   ]
  },
  {
   "cell_type": "markdown",
   "metadata": {},
   "source": [
    "#### Applying the NMF algorithm to the tf-idf matrix"
   ]
  },
  {
   "cell_type": "code",
   "execution_count": 17,
   "metadata": {},
   "outputs": [
    {
     "name": "stdout",
     "output_type": "stream",
     "text": [
      "{0: ['data', 'learn', 'machine', 'application', 'system'], 1: ['knowledge', 'task', 'discovery', 'csmtl', 'domain'], 2: ['sensor', 'colorimetric', 'explosive', 'classifier', 'decision'], 3: ['series', 'time', 'classifier', 'feature', 'discrete'], 4: ['image', 'deep', 'network', 'medical', 'classification'], 5: ['outlier', 'method', 'detection', 'kdd', 'lof'], 6: ['bias', 'stability', 'factor', 'predictive', 'repeatability'], 7: ['similarity', 'graph', 'refinement', 'instance', 'measure'], 8: ['regression', 'model', 'cmars', 'parameter', 'procedure'], 9: ['energy', 'material', 'property', 'molecule', 'enthalpy'], 10: ['policy', 'reinforcement', 'iteration', 'scheme', 'arm'], 11: ['feature', 'translation', 'sentence', 'smt', 'look'], 12: ['svm', 'kernel', 'vector', 'support', 'algorithm'], 13: ['matrix', 'approximation', 'ridge', 'expect', 'covariance'], 14: ['kannada', 'language', 'kluster', 'formalism', 'representation'], 15: ['model', 'naïve', 'bayes', 'hierarchical', 'interaction']}\n"
     ]
    },
    {
     "name": "stderr",
     "output_type": "stream",
     "text": [
      "D:\\Anaconda\\lib\\site-packages\\sklearn\\decomposition\\_nmf.py:1090: ConvergenceWarning: Maximum number of iterations 200 reached. Increase it to improve convergence.\n",
      "  warnings.warn(\"Maximum number of iterations %d reached. Increase it to\"\n"
     ]
    }
   ],
   "source": [
    "# Applying NMF method to reduce dimensionality\n",
    "n_components = 16\n",
    "nmf = NMF(n_components=n_components, init='random', random_state=32)\n",
    "\n",
    "W = nmf.fit_transform(tfidf_matrix)\n",
    "H = nmf.components_\n",
    "\n",
    "# Initialize dictionary with topics and top words\n",
    "topics = {}\n",
    "for i in range(n_components):\n",
    "    topics[i] = []\n",
    "\n",
    "# Get each topic's top words\n",
    "terms = CV.get_feature_names()\n",
    "for topic in range(n_components):\n",
    "    words = H[topic, :]\n",
    "    indexes = get_n_maximum(words, 5)[0]\n",
    "\n",
    "    for l, ind in enumerate(indexes):\n",
    "        topics[topic].append(terms[ind])\n",
    "\n",
    "print(topics)\n",
    "\n",
    "docs = {}\n",
    "# Topic of each document\n",
    "for doc_num in range(W.shape[0]):\n",
    "    doc = W[doc_num,:]\n",
    "    doc_topic = get_n_maximum(doc, 1)[0]\n",
    "\n",
    "    docs[doc_num] = doc_topic[0]"
   ]
  },
  {
   "cell_type": "markdown",
   "metadata": {},
   "source": [
    "### Find the similar articles in the topic 9"
   ]
  },
  {
   "cell_type": "code",
   "execution_count": 75,
   "metadata": {},
   "outputs": [
    {
     "name": "stdout",
     "output_type": "stream",
     "text": [
      "120\n",
      "120\n",
      "(120, 120)\n"
     ]
    }
   ],
   "source": [
    "# Get all articles from topic 9\n",
    "\n",
    "topic_articles_NMF = []\n",
    "topic_articles = []\n",
    "topic_articles_tfidf = []\n",
    "\n",
    "for i in range(0, num_articles): \n",
    "    if docs[i] == 9:\n",
    "        topic_articles_NMF.append(W[i,:])\n",
    "        topic_articles_tfidf.append(tfidf_matrix[i,:])\n",
    "        topic_articles.append(i)\n",
    "        \n",
    "print(len(topic_articles_tfidf))\n",
    "# The main article used as reference is in the first position on topic 9\n",
    "reference_article = topic_articles_NMF[0]\n",
    "\n",
    "num_topic9_articles = len(topic_articles)\n",
    "print(num_topic9_articles)\n",
    "\n",
    "# Get Cosine similarity matrix for \n",
    "cosine_sim = np.zeros((num_topic9_articles, num_topic9_articles))\n",
    "\n",
    "for i, article1_nmf in enumerate(topic_articles_NMF):\n",
    "    for j, article2_nmf in enumerate(topic_articles_NMF):\n",
    "        cosine_sim[i,j] = 1 - cosine(article1_nmf, article2_nmf)\n",
    "\n",
    "print(cosine_sim.shape)\n",
    "\n",
    "cosine_sim_norm = normalizer.fit_transform(cosine_sim)\n"
   ]
  },
  {
   "cell_type": "markdown",
   "metadata": {},
   "source": [
    "#### Apply K-means algorithm"
   ]
  },
  {
   "cell_type": "code",
   "execution_count": 76,
   "metadata": {},
   "outputs": [
    {
     "name": "stderr",
     "output_type": "stream",
     "text": [
      "D:\\Anaconda\\lib\\site-packages\\sklearn\\cluster\\_kmeans.py:881: UserWarning: KMeans is known to have a memory leak on Windows with MKL, when there are less chunks than available threads. You can avoid it by setting the environment variable OMP_NUM_THREADS=1.\n",
      "  warnings.warn(\n"
     ]
    },
    {
     "data": {
      "image/png": "[encoded data removed]",
      "text/plain": [
       "<Figure size 432x288 with 1 Axes>"
      ]
     },
     "metadata": {},
     "output_type": "display_data"
    }
   ],
   "source": [
    "# Elbow Method with inertia\n",
    "inertia_values = []\n",
    "for i in range(1, 16):\n",
    "    kmeans = KMeans(init=\"k-means++\", n_clusters=i)\n",
    "    kmeans.fit(cosine_sim)\n",
    "\n",
    "    inertia_values.append(kmeans.inertia_)\n",
    "\n",
    "num_clusters = np.linspace(1,16,15).T\n",
    "\n",
    "plt.plot(num_clusters, inertia_values)\n",
    "plt.xlabel(\"Nº of clusters\")\n",
    "plt.ylabel(\"Inertia\")\n",
    "plt.show()"
   ]
  },
  {
   "cell_type": "code",
   "execution_count": 100,
   "metadata": {},
   "outputs": [
    {
     "name": "stderr",
     "output_type": "stream",
     "text": [
      "D:\\Anaconda\\lib\\site-packages\\sklearn\\cluster\\_kmeans.py:881: UserWarning: KMeans is known to have a memory leak on Windows with MKL, when there are less chunks than available threads. You can avoid it by setting the environment variable OMP_NUM_THREADS=1.\n",
      "  warnings.warn(\n"
     ]
    },
    {
     "data": {
      "image/png": "[encoded data removed]",
      "text/plain": [
       "<Figure size 432x288 with 1 Axes>"
      ]
     },
     "metadata": {},
     "output_type": "display_data"
    },
    {
     "name": "stdout",
     "output_type": "stream",
     "text": [
      "1\n",
      "0\n",
      "[1 1 1 0 0 0 1 0 0 0 0 0 0 0 0 0 0 0 0 0 0 0 0 0 0 0 1 1 0 1 0 0 0 0 0 0 0\n",
      " 0 0 0 0 0 0 0 0 0 0 0 0 0 0 0 0 0 0 0 0 1 0 0 0 0 0 0 0 0 0 0 1 0 0 0 0 0\n",
      " 1 0 0 0 0 0 0 0 0 0 0 0 0 0 0 0 0 0 0 0 0 0 1 0 0 0 0 0 0 0 0 0 0 0 0 0 0\n",
      " 0 0 0 0 0 0 0 1 0]\n",
      "0.13405398022723997\n",
      "0.10083445002629976\n",
      "0.07733571287618088\n",
      "0.10281367253016288\n"
     ]
    }
   ],
   "source": [
    "# Perform k-means algorithm for number of clusters = 2\n",
    "n_clusters = 2\n",
    "\n",
    "final_kmeans = KMeans(init=\"k-means++\", n_clusters=n_clusters, max_iter=600, tol=1e-6, algorithm=\"full\")\n",
    "final_kmeans.fit(cosine_sim_norm)\n",
    "\n",
    "y_kmeans = final_kmeans.predict(cosine_sim)\n",
    "\n",
    "plt.scatter(cosine_sim_norm[0,:], cosine_sim_norm[38,:], c=y_kmeans, cmap=\"viridis\")\n",
    "plt.xlabel(\"Distance of the first reference article\")\n",
    "plt.ylabel(\"Distance of the second reference article\")\n",
    "plt.show()"
   ]
  },
  {
   "cell_type": "code",
   "execution_count": null,
   "metadata": {},
   "outputs": [],
   "source": [
    "relevant_article = []\n",
    "\n",
    "c = 0\n",
    "for i, article_label in enumerate(y_kmeans):\n",
    "    if article_label == 0:\n",
    "        c += 1\n",
    "        relevant_article.append(i)\n",
    "\n",
    "print(\"count={}\".format(c))\n",
    "\n",
    "data = []\n",
    "for i in relevant_article:\n",
    "    data.append([wspr.articles[i].title, wspr.articles[i].abstract, wspr.articles[i].publish_year, wspr.articles[i].url, wspr.articles[i].referenceCount, wspr.articles[i].citationCount, wspr.articles[i].influentialCitationCount, docs[i]])\n",
    "\n",
    "df = pd.DataFrame(data)\n",
    "df.to_excel(excel_writer=\"topic_9_relevant_articles.xlsx\", sheet_name=\"Articles\", header=[\"Title\", \"Abstract\", \"Publish Year\", \"URL\", \"referenceCount\", \"citationCount\", \"influentialCitationCount\", \"Topic\"])    \n"
   ]
  },
  {
   "cell_type": "markdown",
   "metadata": {},
   "source": [
    "### Save articles to an excel file according to each cluster"
   ]
  },
  {
   "cell_type": "code",
   "execution_count": 19,
   "metadata": {},
   "outputs": [],
   "source": [
    "data = []\n",
    "for i in range(0, num_articles):\n",
    "    data.append([wspr.articles[i].title, wspr.articles[i].abstract, wspr.articles[i].publish_year, wspr.articles[i].url, wspr.articles[i].referenceCount, wspr.articles[i].citationCount, wspr.articles[i].influentialCitationCount, docs[i]])\n",
    "\n",
    "df = pd.DataFrame(data)\n",
    "df.to_excel(excel_writer=\"articles_by_cluster_all_info_v3.xlsx\", sheet_name=\"Articles\", header=[\"Title\", \"Abstract\", \"Publish Year\", \"URL\", \"referenceCount\", \"citationCount\", \"influentialCitationCount\", \"Topic\"])    \n"
   ]
  }
 ],
 "metadata": {
  "interpreter": {
   "hash": "6a06c01e9ba91ab638212b6df8fcd82c2bfee5cc5ef1e78a3ad416f2cde9ff59"
  },
  "kernelspec": {
   "display_name": "Python 3.8.11 64-bit ('AIA': conda)",
   "language": "python",
   "name": "python3"
  },
  "language_info": {
   "codemirror_mode": {
    "name": "ipython",
    "version": 3
   },
   "file_extension": ".py",
   "mimetype": "text/x-python",
   "name": "python",
   "nbconvert_exporter": "python",
   "pygments_lexer": "ipython3",
   "version": "3.8.8"
  },
  "orig_nbformat": 4
 },
 "nbformat": 4,
 "nbformat_minor": 2
}
